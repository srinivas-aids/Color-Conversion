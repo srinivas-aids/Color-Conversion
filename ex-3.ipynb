{
 "cells": [
  {
   "cell_type": "code",
   "execution_count": null,
   "id": "d852dc23",
   "metadata": {},
   "outputs": [],
   "source": [
    "import cv2\n",
    "img = cv2.imread('1.png')\n",
    "cv2.imshow('original',img)\n",
    "\n",
    "bgr2hsv = cv2.cvtColor(img,cv2.COLOR_BGR2HSV)\n",
    "cv2.imshow('BGR To HSV',bgr2hsv)\n",
    "\n",
    "bgr2gray = cv2.cvtColor(img,cv2.COLOR_BGR2GRAY)\n",
    "cv2.imshow('BGR To GRAY',bgr2gray)\n",
    "\n",
    "rgb2hsv = cv2.cvtColor(img,cv2.COLOR_RGB2HSV)\n",
    "cv2.imshow('RGB2HSV',rgb2hsv)\n",
    "\n",
    "rgb2gray = cv2.cvtColor(img,cv2.COLOR_RGB2GRAY)\n",
    "cv2.imshow('RGB2GRAY',rgb2gray)\n",
    "\n",
    "cv2.waitKey(0)\n",
    "cv2.destroyAllWindows()"
   ]
  },
  {
   "cell_type": "code",
   "execution_count": null,
   "id": "50dae6bf",
   "metadata": {},
   "outputs": [],
   "source": [
    "import cv2\n",
    "img = cv2.imread(\"1.png\")\n",
    "img1= cv2.resize(img, (270,190))\n",
    "#converting  bgr to hsv so it can be converted into rgb and bgr\n",
    "hsv = cv2.cvtColor(img1 , cv2.COLOR_BGR2HSV)\n",
    "cv2.imshow(\"INITIAL_HSV \", hsv)\n",
    "hsv_rgb = cv2.cvtColor(hsv, cv2.COLOR_HSV2RGB)\n",
    "cv2.imshow(\"HSV2RGB\", hsv_rgb)\n",
    "hsv_bgr = cv2.cvtColor(hsv, cv2.COLOR_HSV2BGR)\n",
    "cv2.imshow(\"HSV2BGR\", hsv_bgr)\n",
    "cv2.waitKey(0)\n",
    "cv2.destroyAllWindows()"
   ]
  },
  {
   "cell_type": "code",
   "execution_count": null,
   "id": "bde7a1b9",
   "metadata": {},
   "outputs": [],
   "source": [
    "import cv2\n",
    "img = cv2.imread(\"1.png\")\n",
    "img1= cv2.resize(img, (270,190))\n",
    "cv2.imshow(\"BGR_COLOR \", img1)\n",
    "img_ycrcb = cv2.cvtColor(img1 , cv2.COLOR_BGR2YCrCb)\n",
    "cv2.imshow(\"BGR2YCRCB \", img_ycrcb)\n",
    "#converting  rgb to bgr so it can be converted into YCrCb\n",
    "img_bgr = cv2.cvtColor(img1, cv2.COLOR_BGR2RGB)\n",
    "cv2.imshow(\"RGB COLOR\", img_bgr)\n",
    "img_bgr_y = cv2.cvtColor(img_bgr, cv2.COLOR_BGR2YCrCb)\n",
    "cv2.imshow(\"RGB2YCrCb\", img_bgr_y)\n",
    "cv2.waitKey(0)\n",
    "cv2.destroyAllWindows()"
   ]
  },
  {
   "cell_type": "code",
   "execution_count": null,
   "id": "8bb54f5d",
   "metadata": {},
   "outputs": [],
   "source": [
    "import cv2\n",
    "img = cv2.imread(\"1.png\")\n",
    "img1= cv2.resize(img, (270,190))\n",
    "#converting  bgr to hsv so it can be converted into rgb and bgr\n",
    "hsv = cv2.cvtColor(img1 , cv2.COLOR_BGR2HSV)\n",
    "cv2.imshow(\"INITIAL_HSV \", hsv)\n",
    "h,s,v = cv2.split(hsv)\n",
    "cv2.imshow(\"HUE IMAGE\", h)\n",
    "cv2.imshow(\"SATURATION IMAGE\", s)\n",
    "cv2.imshow(\"GRAY IMAGE\", v)\n",
    "#Merge:\n",
    "mergered_HSV = cv2.merge([h,s,v])\n",
    "cv2.imshow(\"MERGED HSV IMAGE\", mergered_HSV)\n",
    "cv2.waitKey(0)\n",
    "cv2.destroyAllWindows()"
   ]
  },
  {
   "cell_type": "code",
   "execution_count": null,
   "id": "43399cdf",
   "metadata": {},
   "outputs": [],
   "source": [
    "cv2.imshow(\"INITIAL_HSV \", bgr2hsv)\n",
    "\n",
    "h,s,v = cv2.split(bgr2hsv)\n",
    "cv2.imshow(\"RED MODEL\", h)\n",
    "cv2.imshow(\"GREEN MODEL\", s)\n",
    "cv2.imshow(\"BLUE MODEL \", v)\n",
    "\n",
    "merger = cv2.merge([h,s,v])\n",
    "cv2.imshow(\"MERGED IMAGE\", merger)\n",
    "\n",
    "cv2.waitKey(0)\n",
    "cv2.destroyAllWindows()"
   ]
  }
 ],
 "metadata": {
  "kernelspec": {
   "display_name": "Python 3 (ipykernel)",
   "language": "python",
   "name": "python3"
  },
  "language_info": {
   "codemirror_mode": {
    "name": "ipython",
    "version": 3
   },
   "file_extension": ".py",
   "mimetype": "text/x-python",
   "name": "python",
   "nbconvert_exporter": "python",
   "pygments_lexer": "ipython3",
   "version": "3.11.2"
  }
 },
 "nbformat": 4,
 "nbformat_minor": 5
}
